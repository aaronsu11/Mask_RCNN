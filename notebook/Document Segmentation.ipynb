{
  "cells": [
    {
      "cell_type": "markdown",
      "metadata": {
        "id": "O2XJ6ibIQMnt"
      },
      "source": [
        "## Dependencies and Utils"
      ]
    },
    {
      "cell_type": "markdown",
      "metadata": {
        "id": "HRIogg73cTGm"
      },
      "source": [
        "import deps"
      ]
    },
    {
      "cell_type": "code",
      "execution_count": 1,
      "metadata": {
        "colab": {
          "base_uri": "https://localhost:8080/"
        },
        "id": "S_Syi0ceOiv9",
        "outputId": "d64b3ee5-8301-49f2-c6e4-a0a91a46c1eb"
      },
      "outputs": [
        {
          "name": "stderr",
          "output_type": "stream",
          "text": [
            "Using TensorFlow backend.\n"
          ]
        }
      ],
      "source": [
        "import os\n",
        "import sys\n",
        "import random\n",
        "import numpy as np\n",
        "import cv2\n",
        "import matplotlib.pyplot as plt\n",
        "from pathlib import Path\n",
        "from typing import Tuple\n",
        "%matplotlib inline \n",
        "\n",
        "# Root directory of the project\n",
        "ROOT_DIR = os.path.abspath(\"..\")\n",
        "\n",
        "# Import Mask RCNN\n",
        "sys.path.append(ROOT_DIR)  # To find local version of the library\n",
        "from mrcnn.config import Config\n",
        "from mrcnn import utils\n",
        "import mrcnn.model as modellib\n",
        "from mrcnn import visualize\n",
        "from mrcnn.model import log\n",
        "\n",
        "# Import Augmentation\n",
        "import albumentations as A\n",
        "from augmentation.copy_paste import CopyPaste, CopyPasteAugmentation\n",
        "\n",
        "# Directory to save logs and trained model\n",
        "MODEL_DIR = os.path.join(ROOT_DIR, \"logs\")\n",
        "\n",
        "# Local path to trained weights file\n",
        "COCO_MODEL_PATH = os.path.join(ROOT_DIR, \"mask_rcnn_coco.h5\")\n",
        "# Download COCO trained weights from Releases if needed\n",
        "if not os.path.exists(COCO_MODEL_PATH):\n",
        "    utils.download_trained_weights(COCO_MODEL_PATH)"
      ]
    },
    {
      "cell_type": "markdown",
      "metadata": {
        "id": "8F5YMVC4eAt2"
      },
      "source": [
        "Suppress some warnings"
      ]
    },
    {
      "cell_type": "code",
      "execution_count": 2,
      "metadata": {
        "id": "XKQ143vmd_l_"
      },
      "outputs": [],
      "source": [
        "import warnings\n",
        "warnings.filterwarnings(\"ignore\", category=DeprecationWarning)\n",
        "warnings.filterwarnings(\"ignore\", category=FutureWarning)"
      ]
    },
    {
      "cell_type": "markdown",
      "metadata": {
        "id": "cWYQ213pR68n"
      },
      "source": [
        "notebook utils"
      ]
    },
    {
      "cell_type": "code",
      "execution_count": 3,
      "metadata": {
        "id": "kzlrM1MzR5j_"
      },
      "outputs": [],
      "source": [
        "def get_ax(rows=1, cols=1, size=8):\n",
        "    \"\"\"Return a Matplotlib Axes array to be used in\n",
        "    all visualizations in the notebook. Provide a\n",
        "    central point to control graph sizes.\n",
        "    \n",
        "    Change the default size attribute to control the size\n",
        "    of rendered images\n",
        "    \"\"\"\n",
        "    _, ax = plt.subplots(rows, cols, figsize=(size*cols, size*rows))\n",
        "    return ax"
      ]
    },
    {
      "cell_type": "markdown",
      "metadata": {
        "id": "VgKPVPAFRboS"
      },
      "source": [
        "## Configuration"
      ]
    },
    {
      "cell_type": "markdown",
      "metadata": {
        "id": "wLU3ebUEl3oX"
      },
      "source": [
        "### Training Config"
      ]
    },
    {
      "cell_type": "code",
      "execution_count": 4,
      "metadata": {
        "colab": {
          "base_uri": "https://localhost:8080/"
        },
        "id": "IU__Hd4kRaLo",
        "outputId": "603af1c8-8434-46dc-bf16-c4141843ca45"
      },
      "outputs": [
        {
          "name": "stdout",
          "output_type": "stream",
          "text": [
            "\n",
            "Configurations:\n",
            "BACKBONE                       resnet101\n",
            "BACKBONE_STRIDES               [4, 8, 16, 32, 64]\n",
            "BATCH_SIZE                     2\n",
            "BBOX_STD_DEV                   [0.1 0.1 0.2 0.2]\n",
            "COMPUTE_BACKBONE_SHAPE         None\n",
            "DETECTION_MAX_INSTANCES        100\n",
            "DETECTION_MIN_CONFIDENCE       0.7\n",
            "DETECTION_NMS_THRESHOLD        0.3\n",
            "FPN_CLASSIF_FC_LAYERS_SIZE     1024\n",
            "GPU_COUNT                      1\n",
            "GRADIENT_CLIP_NORM             5.0\n",
            "IMAGES_PER_GPU                 2\n",
            "IMAGE_CHANNEL_COUNT            3\n",
            "IMAGE_MAX_DIM                  1024\n",
            "IMAGE_META_SIZE                14\n",
            "IMAGE_MIN_DIM                  800\n",
            "IMAGE_MIN_SCALE                0\n",
            "IMAGE_RESIZE_MODE              square\n",
            "IMAGE_SHAPE                    [1024 1024    3]\n",
            "LEARNING_MOMENTUM              0.9\n",
            "LEARNING_RATE                  0.001\n",
            "LOSS_WEIGHTS                   {'rpn_class_loss': 1.0, 'rpn_bbox_loss': 1.0, 'mrcnn_class_loss': 1.0, 'mrcnn_bbox_loss': 1.0, 'mrcnn_mask_loss': 1.0}\n",
            "MASK_POOL_SIZE                 14\n",
            "MASK_SHAPE                     [28, 28]\n",
            "MAX_GT_INSTANCES               100\n",
            "MEAN_PIXEL                     [123.7 116.8 103.9]\n",
            "MINI_MASK_SHAPE                (56, 56)\n",
            "NAME                           documents\n",
            "NUM_CLASSES                    2\n",
            "POOL_SIZE                      7\n",
            "POST_NMS_ROIS_INFERENCE        1000\n",
            "POST_NMS_ROIS_TRAINING         2000\n",
            "PRE_NMS_LIMIT                  6000\n",
            "ROI_POSITIVE_RATIO             0.33\n",
            "RPN_ANCHOR_RATIOS              [0.5, 1, 2]\n",
            "RPN_ANCHOR_SCALES              (32, 64, 128, 256, 512)\n",
            "RPN_ANCHOR_STRIDE              1\n",
            "RPN_BBOX_STD_DEV               [0.1 0.1 0.2 0.2]\n",
            "RPN_NMS_THRESHOLD              0.7\n",
            "RPN_TRAIN_ANCHORS_PER_IMAGE    256\n",
            "STEPS_PER_EPOCH                100\n",
            "TOP_DOWN_PYRAMID_SIZE          256\n",
            "TRAIN_BN                       False\n",
            "TRAIN_ROIS_PER_IMAGE           200\n",
            "USE_MINI_MASK                  True\n",
            "USE_RPN_ROIS                   True\n",
            "VALIDATION_STEPS               5\n",
            "WEIGHT_DECAY                   0.0001\n",
            "\n",
            "\n"
          ]
        }
      ],
      "source": [
        "class DocumentsConfig(Config):\n",
        "    \"\"\"Configuration for training on the government document dataset.\n",
        "    Derives from the base Config class and overrides values specific\n",
        "    to the government document dataset.\n",
        "    \"\"\"\n",
        "    # Give the configuration a recognizable name\n",
        "    NAME = \"documents\"\n",
        "\n",
        "    # Train on 1 GPU and 8 images per GPU. We can put multiple images on each\n",
        "    # GPU because the images are small. Batch size is 8 (GPUs * images/GPU).\n",
        "    GPU_COUNT = 1\n",
        "    IMAGES_PER_GPU = 2\n",
        "\n",
        "    # Number of classes (including background)\n",
        "    # TODO: add classes here\n",
        "    # 1. driver licence\n",
        "    NUM_CLASSES = 1 + 1  # background + 1 document type\n",
        "\n",
        "    # Use small images for faster training. Set the limits of the small side\n",
        "    # the large side, and that determines the image shape.\n",
        "    # IMAGE_MIN_DIM = 128\n",
        "    # IMAGE_MAX_DIM = 128\n",
        "\n",
        "    # Use smaller anchors because our image and objects are small\n",
        "    # RPN_ANCHOR_SCALES = (8, 16, 32, 64, 128)  # anchor side in pixels\n",
        "\n",
        "    # Reduce training ROIs per image because the images are small and have\n",
        "    # few objects. Aim to allow ROI sampling to pick 33% positive ROIs.\n",
        "    # TRAIN_ROIS_PER_IMAGE = 32\n",
        "\n",
        "    # Use a small epoch since the data is simple\n",
        "    STEPS_PER_EPOCH = 100\n",
        "\n",
        "    # use small validation steps since the epoch is small\n",
        "    VALIDATION_STEPS = 5\n",
        "    \n",
        "config = DocumentsConfig()\n",
        "config.display()"
      ]
    },
    {
      "cell_type": "markdown",
      "metadata": {
        "id": "28J2_OrKl6JV"
      },
      "source": [
        "### Augmentation Definition"
      ]
    },
    {
      "cell_type": "code",
      "execution_count": 5,
      "metadata": {
        "id": "u2nV9z4FlqhU"
      },
      "outputs": [],
      "source": [
        "# optional: preprocess background\n",
        "# pre_transform = A.Compose([\n",
        "#     A.RandomSizedCrop(\n",
        "#         always_apply=True, \n",
        "#         p=1.0, \n",
        "#         height=213, # crop to input size\n",
        "#         width=320, # crop to input size\n",
        "#         scale=(0.6, 1.0), \n",
        "#         ratio=(0.8, 1.2), \n",
        "#         interpolation=0\n",
        "#     )\n",
        "# ])\n",
        "\n",
        "# define foreground augmentations\n",
        "elastic_transform = A.Compose([\n",
        "    A.RandomRotate90(\n",
        "        always_apply=False, \n",
        "        p=0.3\n",
        "    ),\n",
        "    A.Rotate(\n",
        "        always_apply=False, \n",
        "        p=0.9, \n",
        "        limit=(-15, 15), \n",
        "        interpolation=0, \n",
        "        border_mode=0, \n",
        "        value=(0, 0, 0), \n",
        "        mask_value=None\n",
        "    ),\n",
        "    A.ElasticTransform(\n",
        "        always_apply=False, \n",
        "        p=0.5, \n",
        "        alpha=1.0, \n",
        "        sigma=50.0, \n",
        "        alpha_affine=10.0, \n",
        "        interpolation=0, \n",
        "        border_mode=0, \n",
        "        value=(0, 0, 0), \n",
        "        mask_value=None, \n",
        "        approximate=False\n",
        "    ),\n",
        "    A.OpticalDistortion(\n",
        "        always_apply=False, \n",
        "        p=0.3, \n",
        "        distort_limit=(-0.3, 0.3), \n",
        "        shift_limit=(-0.05, 0.05), \n",
        "        interpolation=0, \n",
        "        border_mode=0, \n",
        "        value=(0, 0, 0), \n",
        "        mask_value=None\n",
        "    )\n",
        "])\n",
        "\n",
        "# define background augmentation\n",
        "pixel_transform = A.Compose(\n",
        "    [\n",
        "        A.RandomBrightnessContrast(\n",
        "            always_apply=False, \n",
        "            p=1.0, \n",
        "            brightness_limit=(-0.2, 0.2), \n",
        "            contrast_limit=(-0.2, 0.2), \n",
        "            brightness_by_max=True\n",
        "        ),\n",
        "        A.GaussNoise(always_apply=False, p=0.6, var_limit=(10.0, 300)),\n",
        "        A.MotionBlur(always_apply=False, p=0.1, blur_limit=(3, 7)),\n",
        "        A.ToGray(always_apply=False, p=0.05),\n",
        "        A.ImageCompression(\n",
        "            always_apply=False, \n",
        "            p=0.8, \n",
        "            quality_lower=30, \n",
        "            quality_upper=80, \n",
        "            compression_type=0\n",
        "        )\n",
        "    ],\n",
        "    bbox_params=A.BboxParams(\n",
        "        format='pascal_voc', \n",
        "        # min_area=1024, \n",
        "        # min_visibility=0.5, \n",
        "        label_fields=['class_labels']\n",
        "    )\n",
        ")"
      ]
    },
    {
      "cell_type": "markdown",
      "metadata": {
        "id": "mxjGvwKAR-Vy"
      },
      "source": [
        "### Synthetic Dataset Definition"
      ]
    },
    {
      "cell_type": "code",
      "execution_count": 6,
      "metadata": {
        "id": "A-JviQQHTRwc"
      },
      "outputs": [
        {
          "data": {
            "text/plain": [
              "16895"
            ]
          },
          "execution_count": 6,
          "metadata": {},
          "output_type": "execute_result"
        }
      ],
      "source": [
        "# foreground objects\n",
        "object_folder = Path(r'C:\\Users\\RN767KA\\Projects\\Document Classification\\data\\foreground\\driver licence')\n",
        "# background images\n",
        "background_folder = Path(r'C:\\Users\\RN767KA\\Projects\\Document Classification\\data\\background')\n",
        "\n",
        "# confirm access\n",
        "object_folder.stat().st_mode\n",
        "background_folder.stat().st_mode"
      ]
    },
    {
      "cell_type": "code",
      "execution_count": 31,
      "metadata": {
        "id": "LDPVujLaSA-w"
      },
      "outputs": [],
      "source": [
        "class DocumentsDataset(utils.Dataset):\n",
        "    \"\"\"Generates the documents synthetic dataset. The dataset consists of \n",
        "    government documents (passport, driver licence etc.) \n",
        "    placed randomly on a clean surface. The images are generated on the fly. \n",
        "    No file access required.\n",
        "    \"\"\"\n",
        "    # background image dataset\n",
        "    background_images = list(background_folder.rglob('*.jpg'))\n",
        "    # TODO: the key of the map must match the foreground folder name\n",
        "    # for yolo, the pairs must match the .names file\n",
        "    class_mapping = {\n",
        "        # 'background': 0, # default class, don't change\n",
        "        'driver licence': 1,\n",
        "        # 'passport': 2,\n",
        "        # 'credit card': 3\n",
        "    }\n",
        "\n",
        "    def load_documents(self, count: int, object_dir: Path):\n",
        "        \"\"\"Generate the requested number of synthetic images.\n",
        "        count: number of images to generate.\n",
        "        height, width: the size of the generated images.\n",
        "        \"\"\"\n",
        "        # Add classes\n",
        "        # For Single Object\n",
        "        class_name = object_dir.name\n",
        "        class_id = self.class_mapping[class_name]\n",
        "        self.add_class(\"documents\", class_id, class_name)\n",
        "\n",
        "        # For Multi-objects\n",
        "        # for key, value in self.class_mapping.items():\n",
        "        #     self.add_class(\"documents\", value, key) # e.g. (\"documents\", 1, \"driver licence\")\n",
        "\n",
        "        # Add images\n",
        "        # Generate random specifications of images (i.e. color and\n",
        "        # list of foreground documents and locations). This is more compact than\n",
        "        # actual images. Images are generated on the fly in load_image().\n",
        "        documents_image_fps = list(object_dir.glob('*.png')) + list(object_dir.glob('*.jpg'))\n",
        "        for i in range(count):\n",
        "            bg_image_fp = random.choice(self.background_images)\n",
        "            # add image metadata to self.image_info\n",
        "            self.add_image(\n",
        "                \"documents\", \n",
        "                image_id=i, \n",
        "                path=None,\n",
        "                class_id=class_id,\n",
        "                background=bg_image_fp,\n",
        "                documents=documents_image_fps\n",
        "            )\n",
        "\n",
        "    def load_image_mask(self, image_id) -> Tuple[np.ndarray, np.ndarray, int]:\n",
        "        '''Load synthetic image and its mask in one go by copy-paste augmentation\n",
        "        '''\n",
        "        info = self.image_info[image_id]\n",
        "        bg_image_fp = info[\"background\"]\n",
        "        documents_image_fps = info[\"documents\"]\n",
        "\n",
        "        bg_image: np.ndarray = cv2.imread(str(bg_image_fp))\n",
        "        height, width, channels = bg_image.shape\n",
        "\n",
        "        # define foreground/background interaction\n",
        "        overlay_background = CopyPasteAugmentation(\n",
        "            source_images=documents_image_fps,\n",
        "            albu_transforms=elastic_transform,\n",
        "            bev_transform=None, \n",
        "            n_objects_range=[0, 2], # object count\n",
        "            h_range=[0.2 * height, 0.8 * height], # object height -> size\n",
        "            x_range=[0.2 * width, 0.8 * width], # x center\n",
        "            y_range=[0.3 * height, 1 * height] # y bottom\n",
        "        )\n",
        "\n",
        "        count = 0\n",
        "        while True:\n",
        "            try:\n",
        "                # overlay foreground onto background\n",
        "                # TODO: split mask then concat\n",
        "                result_image, result_coords, semantic_mask, instance_mask = overlay_background(bg_image)\n",
        "\n",
        "                count = len(result_coords)\n",
        "                # optionally put pixel transform into train() and replace imaug\n",
        "                transformed = pixel_transform(\n",
        "                    image=result_image, \n",
        "                    bboxes=result_coords,\n",
        "                    mask=instance_mask,\n",
        "                    class_labels=[info[\"class_id\"]] * count,\n",
        "                    # class_categories=class_categories\n",
        "                )\n",
        "            except Exception as e:\n",
        "                print(e)\n",
        "            else:\n",
        "                print(count)\n",
        "                break\n",
        "\n",
        "        transformed_image = transformed['image']\n",
        "        transformed_masks = []\n",
        "        if count > 1:\n",
        "            for i in range(count):\n",
        "                transformed_masks.append(np.where(instance_mask == (i + 1), instance_mask, 0).astype(np.bool))\n",
        "            transformed_mask = np.dstack(transformed_masks) # stack depth channels\n",
        "        elif count == 1:\n",
        "            # expand 2 dim mask to 3 dim\n",
        "            transformed_mask = np.expand_dims(\n",
        "                np.where(\n",
        "                    instance_mask == 1, \n",
        "                    instance_mask, 0\n",
        "                ).astype(np.bool), \n",
        "                axis=2\n",
        "            )\n",
        "        else:\n",
        "            transformed_mask = np.full((height, width, 1), False)\n",
        "            \n",
        "        transformed_class_labels = np.array(transformed['class_labels']).astype(np.int32)\n",
        "\n",
        "        return transformed_image, transformed_mask, transformed_class_labels\n",
        "\n",
        "    def image_reference(self, image_id):\n",
        "        \"\"\"Return the shapes data of the image.\"\"\"\n",
        "        info = self.image_info[image_id]\n",
        "        if info[\"source\"] == \"documents\":\n",
        "            class_id = info[\"class_id\"]\n",
        "            background_name = Path(info[\"background\"]).name\n",
        "            return f\"document type {class_id} overlay on {background_name}\"\n",
        "        else:\n",
        "            super(self.__class__).image_reference(self, image_id)\n"
      ]
    },
    {
      "cell_type": "markdown",
      "metadata": {
        "id": "msDF5TA8SKqw"
      },
      "source": [
        "training & validation split"
      ]
    },
    {
      "cell_type": "code",
      "execution_count": 32,
      "metadata": {
        "colab": {
          "base_uri": "https://localhost:8080/",
          "height": 380
        },
        "id": "hgNAJr_cSFwb",
        "outputId": "522d5296-fd63-409d-8501-af010f35b0b1"
      },
      "outputs": [],
      "source": [
        "# Training dataset\n",
        "dataset_train = DocumentsDataset()\n",
        "dataset_train.load_documents(50, object_folder)\n",
        "dataset_train.prepare()\n",
        "\n",
        "# Validation dataset\n",
        "dataset_val = DocumentsDataset()\n",
        "dataset_val.load_documents(5, object_folder)\n",
        "dataset_val.prepare()"
      ]
    },
    {
      "cell_type": "markdown",
      "metadata": {
        "id": "o45RNFnHS96L"
      },
      "source": [
        "## Inspect dataset"
      ]
    },
    {
      "cell_type": "code",
      "execution_count": 36,
      "metadata": {
        "colab": {
          "base_uri": "https://localhost:8080/",
          "height": 617
        },
        "id": "ykpVfcFIS9Ac",
        "outputId": "69a8725a-34c2-4137-e109-b653806dc205"
      },
      "outputs": [
        {
          "name": "stdout",
          "output_type": "stream",
          "text": [
            "0\n"
          ]
        },
        {
          "data": {
            "image/png": "[encoded data removed]",
            "text/plain": [
              "<Figure size 1008x360 with 5 Axes>"
            ]
          },
          "metadata": {
            "needs_background": "light"
          },
          "output_type": "display_data"
        },
        {
          "name": "stdout",
          "output_type": "stream",
          "text": [
            "OpenCV(4.5.4) D:\\a\\opencv-python\\opencv-python\\opencv\\modules\\core\\src\\arithm.cpp:230: error: (-215:Assertion failed) (mtype == CV_8U || mtype == CV_8S) && _mask.sameSize(*psrc1) in function 'cv::binary_op'\n",
            "\n",
            "1\n"
          ]
        },
        {
          "data": {
            "image/png": "[encoded data removed]",
            "text/plain": [
              "<Figure size 1008x360 with 5 Axes>"
            ]
          },
          "metadata": {
            "needs_background": "light"
          },
          "output_type": "display_data"
        },
        {
          "name": "stdout",
          "output_type": "stream",
          "text": [
            "0\n"
          ]
        },
        {
          "data": {
            "image/png": "[encoded data removed]",
            "text/plain": [
              "<Figure size 1008x360 with 5 Axes>"
            ]
          },
          "metadata": {
            "needs_background": "light"
          },
          "output_type": "display_data"
        },
        {
          "name": "stdout",
          "output_type": "stream",
          "text": [
            "1\n"
          ]
        },
        {
          "data": {
            "image/png": "[encoded data removed]",
            "text/plain": [
              "<Figure size 1008x360 with 5 Axes>"
            ]
          },
          "metadata": {
            "needs_background": "light"
          },
          "output_type": "display_data"
        }
      ],
      "source": [
        "# Load and display random samples\n",
        "image_ids = np.random.choice(dataset_train.image_ids, 4)\n",
        "for image_id in image_ids:\n",
        "    image, mask, class_ids = dataset_train.load_image_mask(image_id)\n",
        "    visualize.display_top_masks(image, mask, class_ids, dataset_train.class_names)"
      ]
    },
    {
      "cell_type": "markdown",
      "metadata": {
        "id": "npWbNJjyT7pv"
      },
      "source": [
        "## Create Model"
      ]
    },
    {
      "cell_type": "code",
      "execution_count": null,
      "metadata": {
        "colab": {
          "base_uri": "https://localhost:8080/"
        },
        "id": "6fejbtNuT7GW",
        "outputId": "ac3fec32-feb5-4d0b-b610-b54179719e11"
      },
      "outputs": [],
      "source": [
        "# Create model in training mode\n",
        "model = modellib.MaskRCNN(mode=\"training\", config=config,\n",
        "                          model_dir=MODEL_DIR)"
      ]
    },
    {
      "cell_type": "code",
      "execution_count": null,
      "metadata": {
        "colab": {
          "base_uri": "https://localhost:8080/"
        },
        "id": "etUftC3XUBgX",
        "outputId": "902a81cf-21ef-48d7-fc53-c94b03b22a81"
      },
      "outputs": [],
      "source": [
        "# Which weights to start with?\n",
        "init_with = \"coco\"  # imagenet, coco, or last\n",
        "\n",
        "if init_with == \"imagenet\":\n",
        "    model.load_weights(model.get_imagenet_weights(), by_name=True)\n",
        "elif init_with == \"coco\":\n",
        "    # Load weights trained on MS COCO, but skip layers that\n",
        "    # are different due to the different number of classes\n",
        "    # See README for instructions to download the COCO weights\n",
        "    model.load_weights(\n",
        "        COCO_MODEL_PATH, \n",
        "        by_name=True, \n",
        "        exclude=[\n",
        "          \"mrcnn_class_logits\", \n",
        "          \"mrcnn_bbox_fc\",\n",
        "          \"mrcnn_bbox\", \n",
        "          \"mrcnn_mask\"\n",
        "        ]\n",
        "    )\n",
        "elif init_with == \"last\":\n",
        "    # Load the last model you trained and continue training\n",
        "    model.load_weights(model.find_last(), by_name=True)"
      ]
    },
    {
      "cell_type": "markdown",
      "metadata": {
        "id": "DuLnzffVXaRZ"
      },
      "source": [
        "## Training"
      ]
    },
    {
      "cell_type": "code",
      "execution_count": null,
      "metadata": {
        "colab": {
          "base_uri": "https://localhost:8080/"
        },
        "id": "T6cfmX5pXbuT",
        "outputId": "d47ed54d-db18-42f3-f9b1-a396cc445df6"
      },
      "outputs": [],
      "source": [
        "# Train the head branches\n",
        "# Passing layers=\"heads\" freezes all layers except the head\n",
        "# layers. You can also pass a regular expression to select\n",
        "# which layers to train by name pattern.\n",
        "model.train(\n",
        "    dataset_train, dataset_val,\n",
        "    learning_rate=config.LEARNING_RATE,\n",
        "    epochs=5,\n",
        "    layers='heads'\n",
        ")"
      ]
    },
    {
      "cell_type": "code",
      "execution_count": null,
      "metadata": {
        "id": "k5NejQ6peZIC"
      },
      "outputs": [],
      "source": [
        "# Save weights\n",
        "# Typically not needed because callbacks save after every epoch\n",
        "# Uncomment to save manually\n",
        "model_path = os.path.join(MODEL_DIR, \"mask_rcnn_shapes.h5\")\n",
        "model.keras_model.save_weights(model_path)"
      ]
    },
    {
      "cell_type": "markdown",
      "metadata": {
        "id": "o68LbzLoegiX"
      },
      "source": [
        "## Detection"
      ]
    },
    {
      "cell_type": "code",
      "execution_count": null,
      "metadata": {
        "colab": {
          "base_uri": "https://localhost:8080/"
        },
        "id": "JCU609z-eh_P",
        "outputId": "2e95c5a1-05f2-4957-b9c9-94ea412c64c4"
      },
      "outputs": [],
      "source": [
        "class InferenceConfig(DocumentsConfig):\n",
        "    GPU_COUNT = 1\n",
        "    IMAGES_PER_GPU = 1\n",
        "\n",
        "inference_config = InferenceConfig()\n",
        "\n",
        "# Recreate the model in inference mode\n",
        "model = modellib.MaskRCNN(mode=\"inference\", \n",
        "                          config=inference_config,\n",
        "                          model_dir=MODEL_DIR)\n",
        "\n",
        "# Get path to saved weights\n",
        "# Either set a specific path or find last trained weights\n",
        "# model_path = os.path.join(ROOT_DIR, \".h5 file name here\")\n",
        "model_path = model.find_last()\n",
        "\n",
        "# Load trained weights\n",
        "print(\"Loading weights from \", model_path)\n",
        "model.load_weights(model_path, by_name=True)"
      ]
    },
    {
      "cell_type": "code",
      "execution_count": null,
      "metadata": {
        "colab": {
          "base_uri": "https://localhost:8080/",
          "height": 553
        },
        "id": "Xo_B_sBJetzs",
        "outputId": "186f6dde-872e-406b-bf20-bba2d64c818d"
      },
      "outputs": [],
      "source": [
        "# Select a random image\n",
        "image_id = random.choice(dataset_val.image_ids)\n",
        "original_image, image_meta, gt_class_id, gt_bbox, gt_mask = modellib.load_image_gt(\n",
        "    dataset_val, \n",
        "    inference_config,\n",
        "    use_mini_mask=False\n",
        ")\n",
        "\n",
        "log(\"original_image\", original_image)\n",
        "log(\"image_meta\", image_meta)\n",
        "log(\"gt_class_id\", gt_class_id)\n",
        "log(\"gt_bbox\", gt_bbox)\n",
        "log(\"gt_mask\", gt_mask)\n",
        "\n",
        "visualize.display_instances(\n",
        "    original_image, gt_bbox,\n",
        "    gt_mask, gt_class_id,\n",
        "    dataset_train.class_names,\n",
        "    figsize=(8, 8)\n",
        ")"
      ]
    },
    {
      "cell_type": "code",
      "execution_count": null,
      "metadata": {
        "colab": {
          "base_uri": "https://localhost:8080/",
          "height": 553
        },
        "id": "4P3GaSIQez3_",
        "outputId": "e6799666-a88b-4e1d-ca5b-556c5cba52e2"
      },
      "outputs": [],
      "source": [
        "# Test on the selected image\n",
        "results = model.detect([original_image], verbose=1)\n",
        "\n",
        "r = results[0]\n",
        "visualize.display_instances(\n",
        "    original_image,\n",
        "    r['rois'],\n",
        "    r['masks'],\n",
        "    r['class_ids'],\n",
        "    dataset_val.class_names,\n",
        "    r['scores'],\n",
        "    ax=get_ax()\n",
        "  )"
      ]
    },
    {
      "cell_type": "markdown",
      "metadata": {
        "id": "yRSsr7jmfBN4"
      },
      "source": [
        "## Evaluation"
      ]
    },
    {
      "cell_type": "code",
      "execution_count": null,
      "metadata": {
        "colab": {
          "base_uri": "https://localhost:8080/"
        },
        "id": "9LUgcErjfCbo",
        "outputId": "9eafcc02-c9c7-4ca9-dd9b-7491ffcd20d4"
      },
      "outputs": [],
      "source": [
        "# Compute VOC-Style mAP @ IoU=0.5\n",
        "# Running on 10 images. Increase for better accuracy.\n",
        "image_ids = np.random.choice(dataset_val.image_ids, 10)\n",
        "APs = []\n",
        "for image_id in image_ids:\n",
        "    # Load image and ground truth data\n",
        "    image, image_meta, gt_class_id, gt_bbox, gt_mask =\\\n",
        "        modellib.load_image_gt(dataset_val, inference_config,\n",
        "                               image_id, use_mini_mask=False)\n",
        "    molded_images = np.expand_dims(modellib.mold_image(image, inference_config), 0)\n",
        "    # Run object detection\n",
        "    results = model.detect([image], verbose=0)\n",
        "    r = results[0]\n",
        "    # Compute AP\n",
        "    AP, precisions, recalls, overlaps =\\\n",
        "        utils.compute_ap(gt_bbox, gt_class_id, gt_mask,\n",
        "                         r[\"rois\"], r[\"class_ids\"], r[\"scores\"], r['masks'])\n",
        "    APs.append(AP)\n",
        "    \n",
        "print(\"mAP: \", np.mean(APs))"
      ]
    }
  ],
  "metadata": {
    "colab": {
      "collapsed_sections": [],
      "name": "Document Segmentation.ipynb",
      "provenance": []
    },
    "kernelspec": {
      "display_name": "Python 3",
      "name": "python3"
    },
    "language_info": {
      "codemirror_mode": {
        "name": "ipython",
        "version": 3
      },
      "file_extension": ".py",
      "mimetype": "text/x-python",
      "name": "python",
      "nbconvert_exporter": "python",
      "pygments_lexer": "ipython3",
      "version": "3.7.11"
    }
  },
  "nbformat": 4,
  "nbformat_minor": 0
}
